{
 "cells": [
  {
   "cell_type": "code",
   "execution_count": 2,
   "id": "1384def3-9a82-40a5-9068-e04b286d53a9",
   "metadata": {},
   "outputs": [],
   "source": [
    "import pandas as pd\n",
    "import numpy as np\n",
    "import matplotlib.pyplot as plt\n",
    "import seaborn as sns\n",
    "\n",
    "import warnings\n",
    "warnings.filterwarnings('ignore')"
   ]
  },
  {
   "cell_type": "code",
   "execution_count": 3,
   "id": "621f3348-7437-4a1c-a9d8-a15688009b0a",
   "metadata": {},
   "outputs": [],
   "source": [
    "from sklearn.datasets import make_classification"
   ]
  },
  {
   "cell_type": "code",
   "execution_count": 4,
   "id": "b7d34747-2c5e-4922-963e-2fe761944219",
   "metadata": {},
   "outputs": [],
   "source": [
    "x , y = make_classification(n_samples= 1000, n_features= 10, n_redundant=5,n_informative=5, n_classes=2, random_state=1)"
   ]
  },
  {
   "cell_type": "code",
   "execution_count": 7,
   "id": "d1bb8f65-208e-4fd1-a448-bcaf125f0f81",
   "metadata": {},
   "outputs": [
    {
     "name": "stdout",
     "output_type": "stream",
     "text": [
      "[[ 2.56999479 -0.13019997  3.16075093 ... -1.93094078  3.26130366\n",
      "   2.05692145]\n",
      " [ 0.34129317  2.51321418 -0.80416572 ...  6.24734437 -1.92769365\n",
      "   2.9503149 ]\n",
      " [ 2.27539972  3.36561455  0.17164362 ...  2.74693781  0.13492444\n",
      "   2.00339547]\n",
      " ...\n",
      " [ 0.5234359   1.90466429  0.93243365 ...  1.53945231  1.90646166\n",
      "   1.99458587]\n",
      " [ 1.33747921  3.25859684  0.78792366 ...  5.18788314 -0.82071083\n",
      "   3.51411431]\n",
      " [-0.98534299  0.83919047  2.5820803  ...  3.04705685  0.66885641\n",
      "   3.32838496]] [1 0 0 1 0 1 1 0 0 0 1 0 1 1 0 0 1 1 1 0 0 1 1 0 1 1 1 0 0 1 1 0 1 0 1 1 1\n",
      " 0 0 0 0 0 0 1 0 1 0 1 1 1 0 1 1 0 1 1 0 1 0 0 0 1 0 0 0 0 1 1 0 0 0 1 0 0\n",
      " 1 0 0 1 1 0 1 0 1 1 1 0 1 0 0 1 0 0 0 1 0 1 1 1 0 1 1 1 1 0 1 0 1 1 0 0 1\n",
      " 0 1 0 1 0 1 1 1 1 1 0 1 0 0 1 0 0 1 0 1 0 0 0 1 1 0 0 0 0 0 1 1 1 0 1 0 1\n",
      " 1 1 1 1 0 1 1 0 1 1 0 0 0 0 0 0 1 0 1 1 1 0 0 0 0 1 1 0 1 0 1 1 1 0 0 0 1\n",
      " 1 1 1 1 1 0 1 1 0 1 1 0 0 1 1 0 0 1 0 0 1 1 1 1 0 1 1 1 1 0 0 1 1 1 0 0 1\n",
      " 1 1 0 0 0 1 1 1 1 0 0 1 0 1 1 0 1 0 0 1 0 0 1 0 0 1 0 1 1 0 0 1 0 0 1 1 0\n",
      " 1 1 0 1 0 1 1 1 1 0 1 0 1 1 0 1 0 1 1 0 1 0 1 1 1 1 0 0 0 0 0 0 1 1 1 0 1\n",
      " 1 1 0 1 1 1 0 0 1 0 1 1 0 1 0 0 0 1 1 1 1 0 0 1 0 1 0 1 0 0 0 1 0 1 0 0 0\n",
      " 0 1 0 0 0 0 0 1 1 0 0 1 0 0 1 1 0 0 0 0 1 1 1 1 1 0 1 1 0 1 1 1 1 1 1 0 0\n",
      " 1 1 1 0 1 0 0 0 1 0 0 0 0 1 0 0 0 1 1 0 1 1 0 0 0 1 1 1 0 1 0 0 0 1 1 0 0\n",
      " 1 1 1 1 0 0 0 0 1 1 0 1 1 1 0 0 1 1 1 0 0 1 0 1 1 1 1 1 0 0 1 1 1 0 1 0 1\n",
      " 0 1 0 0 0 1 1 0 0 0 1 0 1 1 0 1 0 0 0 1 0 1 0 0 0 0 0 0 1 1 1 1 0 0 0 1 1\n",
      " 0 0 1 1 1 1 1 0 0 0 0 0 0 0 1 1 0 1 0 0 0 1 0 1 1 1 1 1 1 0 0 0 0 0 1 0 1\n",
      " 0 1 1 0 1 0 1 0 0 0 1 0 0 1 1 1 1 1 1 0 0 0 0 1 0 1 1 0 0 0 1 0 1 0 1 0 1\n",
      " 1 0 0 0 1 1 0 0 0 0 1 0 1 0 1 0 1 0 0 1 1 0 0 1 1 0 1 0 1 0 1 1 1 0 1 0 0\n",
      " 0 1 1 1 0 0 1 0 1 1 0 1 0 1 1 1 1 0 0 1 1 0 0 1 1 0 1 1 1 0 0 1 0 0 0 0 0\n",
      " 0 1 1 0 0 1 1 1 1 1 1 0 1 1 1 0 1 1 0 0 1 1 0 1 1 0 0 1 0 0 1 1 1 0 1 1 1\n",
      " 0 0 0 1 1 0 0 1 0 1 0 0 0 0 0 0 0 0 0 1 1 1 1 1 1 0 0 1 0 1 1 0 1 0 1 1 0\n",
      " 1 0 0 1 1 0 0 0 1 0 0 0 0 1 0 1 0 0 0 1 0 0 0 1 0 0 1 1 0 0 0 0 1 1 1 0 1\n",
      " 1 1 0 1 0 1 0 0 1 1 1 0 1 0 0 1 0 1 1 0 0 1 0 1 1 0 1 0 0 0 0 0 1 1 0 1 1\n",
      " 1 1 0 0 1 0 1 0 1 1 1 1 1 0 0 0 0 0 0 0 0 0 1 1 1 1 0 0 1 0 1 1 1 0 0 0 0\n",
      " 0 0 0 1 0 1 1 1 1 0 1 1 1 0 0 1 1 0 1 0 1 0 1 0 0 1 1 0 1 1 1 1 1 1 0 0 0\n",
      " 1 0 1 1 1 1 0 0 1 0 0 1 0 1 1 1 0 1 1 0 1 0 0 1 0 0 0 1 0 0 1 0 0 1 0 0 1\n",
      " 1 1 1 1 1 0 0 1 1 0 0 1 0 1 1 0 1 0 0 0 0 0 0 0 0 1 0 1 0 1 0 1 1 1 0 1 1\n",
      " 1 1 1 0 0 0 0 0 0 1 0 0 1 1 1 0 0 0 0 1 1 0 0 0 1 1 0 0 1 1 0 1 0 1 0 1 0\n",
      " 1 0 1 0 1 0 0 1 0 1 1 1 0 1 0 0 1 1 1 0 1 0 0 1 1 0 0 1 1 0 0 0 0 1 1 0 0\n",
      " 0]\n"
     ]
    }
   ],
   "source": [
    "print(x,y)"
   ]
  },
  {
   "cell_type": "code",
   "execution_count": 9,
   "id": "a49cd19f-cb97-4386-9ce9-e74149a89762",
   "metadata": {},
   "outputs": [
    {
     "data": {
      "text/plain": [
       "1000"
      ]
     },
     "execution_count": 9,
     "metadata": {},
     "output_type": "execute_result"
    }
   ],
   "source": [
    "len(y)"
   ]
  },
  {
   "cell_type": "code",
   "execution_count": 10,
   "id": "2813a7cb-ba46-4aeb-b00a-8aafe0173eee",
   "metadata": {},
   "outputs": [
    {
     "data": {
      "text/plain": [
       "1000"
      ]
     },
     "execution_count": 10,
     "metadata": {},
     "output_type": "execute_result"
    }
   ],
   "source": [
    "len(x)"
   ]
  },
  {
   "cell_type": "code",
   "execution_count": 11,
   "id": "95a42ea7-a8de-4bb6-ac80-c047ab6c2660",
   "metadata": {},
   "outputs": [],
   "source": [
    "#ML PipeLine\n",
    "#1. Injest the dataset\n",
    "#2. EDA\n",
    "#3. Train_test_split\n",
    "#4. Scaline\n",
    "#5. Model Building\n",
    "#6. Evaluation Matrix"
   ]
  },
  {
   "cell_type": "code",
   "execution_count": 12,
   "id": "c6efd343-39f1-4304-a7a4-abdaa0908ce1",
   "metadata": {},
   "outputs": [],
   "source": [
    "from sklearn.model_selection import train_test_split\n",
    "X_train, X_test, Y_train, Y_test = train_test_split(x,y, random_state= 1, test_size= 0.2)"
   ]
  },
  {
   "cell_type": "code",
   "execution_count": 13,
   "id": "942dc490-41e6-4ea3-9219-4dc6e69e1b6e",
   "metadata": {},
   "outputs": [
    {
     "data": {
      "text/plain": [
       "(800, 10)"
      ]
     },
     "execution_count": 13,
     "metadata": {},
     "output_type": "execute_result"
    }
   ],
   "source": [
    "X_train.shape"
   ]
  },
  {
   "cell_type": "code",
   "execution_count": 14,
   "id": "1499758b-f999-41ca-a07f-5a3706ff4d47",
   "metadata": {},
   "outputs": [
    {
     "data": {
      "text/plain": [
       "(1000, 10)"
      ]
     },
     "execution_count": 14,
     "metadata": {},
     "output_type": "execute_result"
    }
   ],
   "source": [
    "x.shape"
   ]
  },
  {
   "cell_type": "code",
   "execution_count": 15,
   "id": "3f66be1f-3937-4f5c-8d75-fd4a3c73b1ce",
   "metadata": {},
   "outputs": [],
   "source": [
    "from sklearn.linear_model import LogisticRegression"
   ]
  },
  {
   "cell_type": "code",
   "execution_count": 17,
   "id": "d8dcf6a4-84fb-416f-8cba-875c04073a86",
   "metadata": {},
   "outputs": [],
   "source": [
    "model = LogisticRegression()"
   ]
  },
  {
   "cell_type": "code",
   "execution_count": 21,
   "id": "1720879f-294d-4f91-b27c-eb0fd84f2d9e",
   "metadata": {},
   "outputs": [
    {
     "data": {
      "text/plain": [
       "(200, 10)"
      ]
     },
     "execution_count": 21,
     "metadata": {},
     "output_type": "execute_result"
    }
   ],
   "source": [
    "X_test.shape"
   ]
  },
  {
   "cell_type": "code",
   "execution_count": 23,
   "id": "407fb693-ad58-4833-bb80-d245038991d6",
   "metadata": {},
   "outputs": [
    {
     "data": {
      "text/html": [
       "<style>#sk-container-id-4 {\n",
       "  /* Definition of color scheme common for light and dark mode */\n",
       "  --sklearn-color-text: #000;\n",
       "  --sklearn-color-text-muted: #666;\n",
       "  --sklearn-color-line: gray;\n",
       "  /* Definition of color scheme for unfitted estimators */\n",
       "  --sklearn-color-unfitted-level-0: #fff5e6;\n",
       "  --sklearn-color-unfitted-level-1: #f6e4d2;\n",
       "  --sklearn-color-unfitted-level-2: #ffe0b3;\n",
       "  --sklearn-color-unfitted-level-3: chocolate;\n",
       "  /* Definition of color scheme for fitted estimators */\n",
       "  --sklearn-color-fitted-level-0: #f0f8ff;\n",
       "  --sklearn-color-fitted-level-1: #d4ebff;\n",
       "  --sklearn-color-fitted-level-2: #b3dbfd;\n",
       "  --sklearn-color-fitted-level-3: cornflowerblue;\n",
       "\n",
       "  /* Specific color for light theme */\n",
       "  --sklearn-color-text-on-default-background: var(--sg-text-color, var(--theme-code-foreground, var(--jp-content-font-color1, black)));\n",
       "  --sklearn-color-background: var(--sg-background-color, var(--theme-background, var(--jp-layout-color0, white)));\n",
       "  --sklearn-color-border-box: var(--sg-text-color, var(--theme-code-foreground, var(--jp-content-font-color1, black)));\n",
       "  --sklearn-color-icon: #696969;\n",
       "\n",
       "  @media (prefers-color-scheme: dark) {\n",
       "    /* Redefinition of color scheme for dark theme */\n",
       "    --sklearn-color-text-on-default-background: var(--sg-text-color, var(--theme-code-foreground, var(--jp-content-font-color1, white)));\n",
       "    --sklearn-color-background: var(--sg-background-color, var(--theme-background, var(--jp-layout-color0, #111)));\n",
       "    --sklearn-color-border-box: var(--sg-text-color, var(--theme-code-foreground, var(--jp-content-font-color1, white)));\n",
       "    --sklearn-color-icon: #878787;\n",
       "  }\n",
       "}\n",
       "\n",
       "#sk-container-id-4 {\n",
       "  color: var(--sklearn-color-text);\n",
       "}\n",
       "\n",
       "#sk-container-id-4 pre {\n",
       "  padding: 0;\n",
       "}\n",
       "\n",
       "#sk-container-id-4 input.sk-hidden--visually {\n",
       "  border: 0;\n",
       "  clip: rect(1px 1px 1px 1px);\n",
       "  clip: rect(1px, 1px, 1px, 1px);\n",
       "  height: 1px;\n",
       "  margin: -1px;\n",
       "  overflow: hidden;\n",
       "  padding: 0;\n",
       "  position: absolute;\n",
       "  width: 1px;\n",
       "}\n",
       "\n",
       "#sk-container-id-4 div.sk-dashed-wrapped {\n",
       "  border: 1px dashed var(--sklearn-color-line);\n",
       "  margin: 0 0.4em 0.5em 0.4em;\n",
       "  box-sizing: border-box;\n",
       "  padding-bottom: 0.4em;\n",
       "  background-color: var(--sklearn-color-background);\n",
       "}\n",
       "\n",
       "#sk-container-id-4 div.sk-container {\n",
       "  /* jupyter's `normalize.less` sets `[hidden] { display: none; }`\n",
       "     but bootstrap.min.css set `[hidden] { display: none !important; }`\n",
       "     so we also need the `!important` here to be able to override the\n",
       "     default hidden behavior on the sphinx rendered scikit-learn.org.\n",
       "     See: https://github.com/scikit-learn/scikit-learn/issues/21755 */\n",
       "  display: inline-block !important;\n",
       "  position: relative;\n",
       "}\n",
       "\n",
       "#sk-container-id-4 div.sk-text-repr-fallback {\n",
       "  display: none;\n",
       "}\n",
       "\n",
       "div.sk-parallel-item,\n",
       "div.sk-serial,\n",
       "div.sk-item {\n",
       "  /* draw centered vertical line to link estimators */\n",
       "  background-image: linear-gradient(var(--sklearn-color-text-on-default-background), var(--sklearn-color-text-on-default-background));\n",
       "  background-size: 2px 100%;\n",
       "  background-repeat: no-repeat;\n",
       "  background-position: center center;\n",
       "}\n",
       "\n",
       "/* Parallel-specific style estimator block */\n",
       "\n",
       "#sk-container-id-4 div.sk-parallel-item::after {\n",
       "  content: \"\";\n",
       "  width: 100%;\n",
       "  border-bottom: 2px solid var(--sklearn-color-text-on-default-background);\n",
       "  flex-grow: 1;\n",
       "}\n",
       "\n",
       "#sk-container-id-4 div.sk-parallel {\n",
       "  display: flex;\n",
       "  align-items: stretch;\n",
       "  justify-content: center;\n",
       "  background-color: var(--sklearn-color-background);\n",
       "  position: relative;\n",
       "}\n",
       "\n",
       "#sk-container-id-4 div.sk-parallel-item {\n",
       "  display: flex;\n",
       "  flex-direction: column;\n",
       "}\n",
       "\n",
       "#sk-container-id-4 div.sk-parallel-item:first-child::after {\n",
       "  align-self: flex-end;\n",
       "  width: 50%;\n",
       "}\n",
       "\n",
       "#sk-container-id-4 div.sk-parallel-item:last-child::after {\n",
       "  align-self: flex-start;\n",
       "  width: 50%;\n",
       "}\n",
       "\n",
       "#sk-container-id-4 div.sk-parallel-item:only-child::after {\n",
       "  width: 0;\n",
       "}\n",
       "\n",
       "/* Serial-specific style estimator block */\n",
       "\n",
       "#sk-container-id-4 div.sk-serial {\n",
       "  display: flex;\n",
       "  flex-direction: column;\n",
       "  align-items: center;\n",
       "  background-color: var(--sklearn-color-background);\n",
       "  padding-right: 1em;\n",
       "  padding-left: 1em;\n",
       "}\n",
       "\n",
       "\n",
       "/* Toggleable style: style used for estimator/Pipeline/ColumnTransformer box that is\n",
       "clickable and can be expanded/collapsed.\n",
       "- Pipeline and ColumnTransformer use this feature and define the default style\n",
       "- Estimators will overwrite some part of the style using the `sk-estimator` class\n",
       "*/\n",
       "\n",
       "/* Pipeline and ColumnTransformer style (default) */\n",
       "\n",
       "#sk-container-id-4 div.sk-toggleable {\n",
       "  /* Default theme specific background. It is overwritten whether we have a\n",
       "  specific estimator or a Pipeline/ColumnTransformer */\n",
       "  background-color: var(--sklearn-color-background);\n",
       "}\n",
       "\n",
       "/* Toggleable label */\n",
       "#sk-container-id-4 label.sk-toggleable__label {\n",
       "  cursor: pointer;\n",
       "  display: flex;\n",
       "  width: 100%;\n",
       "  margin-bottom: 0;\n",
       "  padding: 0.5em;\n",
       "  box-sizing: border-box;\n",
       "  text-align: center;\n",
       "  align-items: start;\n",
       "  justify-content: space-between;\n",
       "  gap: 0.5em;\n",
       "}\n",
       "\n",
       "#sk-container-id-4 label.sk-toggleable__label .caption {\n",
       "  font-size: 0.6rem;\n",
       "  font-weight: lighter;\n",
       "  color: var(--sklearn-color-text-muted);\n",
       "}\n",
       "\n",
       "#sk-container-id-4 label.sk-toggleable__label-arrow:before {\n",
       "  /* Arrow on the left of the label */\n",
       "  content: \"▸\";\n",
       "  float: left;\n",
       "  margin-right: 0.25em;\n",
       "  color: var(--sklearn-color-icon);\n",
       "}\n",
       "\n",
       "#sk-container-id-4 label.sk-toggleable__label-arrow:hover:before {\n",
       "  color: var(--sklearn-color-text);\n",
       "}\n",
       "\n",
       "/* Toggleable content - dropdown */\n",
       "\n",
       "#sk-container-id-4 div.sk-toggleable__content {\n",
       "  max-height: 0;\n",
       "  max-width: 0;\n",
       "  overflow: hidden;\n",
       "  text-align: left;\n",
       "  /* unfitted */\n",
       "  background-color: var(--sklearn-color-unfitted-level-0);\n",
       "}\n",
       "\n",
       "#sk-container-id-4 div.sk-toggleable__content.fitted {\n",
       "  /* fitted */\n",
       "  background-color: var(--sklearn-color-fitted-level-0);\n",
       "}\n",
       "\n",
       "#sk-container-id-4 div.sk-toggleable__content pre {\n",
       "  margin: 0.2em;\n",
       "  border-radius: 0.25em;\n",
       "  color: var(--sklearn-color-text);\n",
       "  /* unfitted */\n",
       "  background-color: var(--sklearn-color-unfitted-level-0);\n",
       "}\n",
       "\n",
       "#sk-container-id-4 div.sk-toggleable__content.fitted pre {\n",
       "  /* unfitted */\n",
       "  background-color: var(--sklearn-color-fitted-level-0);\n",
       "}\n",
       "\n",
       "#sk-container-id-4 input.sk-toggleable__control:checked~div.sk-toggleable__content {\n",
       "  /* Expand drop-down */\n",
       "  max-height: 200px;\n",
       "  max-width: 100%;\n",
       "  overflow: auto;\n",
       "}\n",
       "\n",
       "#sk-container-id-4 input.sk-toggleable__control:checked~label.sk-toggleable__label-arrow:before {\n",
       "  content: \"▾\";\n",
       "}\n",
       "\n",
       "/* Pipeline/ColumnTransformer-specific style */\n",
       "\n",
       "#sk-container-id-4 div.sk-label input.sk-toggleable__control:checked~label.sk-toggleable__label {\n",
       "  color: var(--sklearn-color-text);\n",
       "  background-color: var(--sklearn-color-unfitted-level-2);\n",
       "}\n",
       "\n",
       "#sk-container-id-4 div.sk-label.fitted input.sk-toggleable__control:checked~label.sk-toggleable__label {\n",
       "  background-color: var(--sklearn-color-fitted-level-2);\n",
       "}\n",
       "\n",
       "/* Estimator-specific style */\n",
       "\n",
       "/* Colorize estimator box */\n",
       "#sk-container-id-4 div.sk-estimator input.sk-toggleable__control:checked~label.sk-toggleable__label {\n",
       "  /* unfitted */\n",
       "  background-color: var(--sklearn-color-unfitted-level-2);\n",
       "}\n",
       "\n",
       "#sk-container-id-4 div.sk-estimator.fitted input.sk-toggleable__control:checked~label.sk-toggleable__label {\n",
       "  /* fitted */\n",
       "  background-color: var(--sklearn-color-fitted-level-2);\n",
       "}\n",
       "\n",
       "#sk-container-id-4 div.sk-label label.sk-toggleable__label,\n",
       "#sk-container-id-4 div.sk-label label {\n",
       "  /* The background is the default theme color */\n",
       "  color: var(--sklearn-color-text-on-default-background);\n",
       "}\n",
       "\n",
       "/* On hover, darken the color of the background */\n",
       "#sk-container-id-4 div.sk-label:hover label.sk-toggleable__label {\n",
       "  color: var(--sklearn-color-text);\n",
       "  background-color: var(--sklearn-color-unfitted-level-2);\n",
       "}\n",
       "\n",
       "/* Label box, darken color on hover, fitted */\n",
       "#sk-container-id-4 div.sk-label.fitted:hover label.sk-toggleable__label.fitted {\n",
       "  color: var(--sklearn-color-text);\n",
       "  background-color: var(--sklearn-color-fitted-level-2);\n",
       "}\n",
       "\n",
       "/* Estimator label */\n",
       "\n",
       "#sk-container-id-4 div.sk-label label {\n",
       "  font-family: monospace;\n",
       "  font-weight: bold;\n",
       "  display: inline-block;\n",
       "  line-height: 1.2em;\n",
       "}\n",
       "\n",
       "#sk-container-id-4 div.sk-label-container {\n",
       "  text-align: center;\n",
       "}\n",
       "\n",
       "/* Estimator-specific */\n",
       "#sk-container-id-4 div.sk-estimator {\n",
       "  font-family: monospace;\n",
       "  border: 1px dotted var(--sklearn-color-border-box);\n",
       "  border-radius: 0.25em;\n",
       "  box-sizing: border-box;\n",
       "  margin-bottom: 0.5em;\n",
       "  /* unfitted */\n",
       "  background-color: var(--sklearn-color-unfitted-level-0);\n",
       "}\n",
       "\n",
       "#sk-container-id-4 div.sk-estimator.fitted {\n",
       "  /* fitted */\n",
       "  background-color: var(--sklearn-color-fitted-level-0);\n",
       "}\n",
       "\n",
       "/* on hover */\n",
       "#sk-container-id-4 div.sk-estimator:hover {\n",
       "  /* unfitted */\n",
       "  background-color: var(--sklearn-color-unfitted-level-2);\n",
       "}\n",
       "\n",
       "#sk-container-id-4 div.sk-estimator.fitted:hover {\n",
       "  /* fitted */\n",
       "  background-color: var(--sklearn-color-fitted-level-2);\n",
       "}\n",
       "\n",
       "/* Specification for estimator info (e.g. \"i\" and \"?\") */\n",
       "\n",
       "/* Common style for \"i\" and \"?\" */\n",
       "\n",
       ".sk-estimator-doc-link,\n",
       "a:link.sk-estimator-doc-link,\n",
       "a:visited.sk-estimator-doc-link {\n",
       "  float: right;\n",
       "  font-size: smaller;\n",
       "  line-height: 1em;\n",
       "  font-family: monospace;\n",
       "  background-color: var(--sklearn-color-background);\n",
       "  border-radius: 1em;\n",
       "  height: 1em;\n",
       "  width: 1em;\n",
       "  text-decoration: none !important;\n",
       "  margin-left: 0.5em;\n",
       "  text-align: center;\n",
       "  /* unfitted */\n",
       "  border: var(--sklearn-color-unfitted-level-1) 1pt solid;\n",
       "  color: var(--sklearn-color-unfitted-level-1);\n",
       "}\n",
       "\n",
       ".sk-estimator-doc-link.fitted,\n",
       "a:link.sk-estimator-doc-link.fitted,\n",
       "a:visited.sk-estimator-doc-link.fitted {\n",
       "  /* fitted */\n",
       "  border: var(--sklearn-color-fitted-level-1) 1pt solid;\n",
       "  color: var(--sklearn-color-fitted-level-1);\n",
       "}\n",
       "\n",
       "/* On hover */\n",
       "div.sk-estimator:hover .sk-estimator-doc-link:hover,\n",
       ".sk-estimator-doc-link:hover,\n",
       "div.sk-label-container:hover .sk-estimator-doc-link:hover,\n",
       ".sk-estimator-doc-link:hover {\n",
       "  /* unfitted */\n",
       "  background-color: var(--sklearn-color-unfitted-level-3);\n",
       "  color: var(--sklearn-color-background);\n",
       "  text-decoration: none;\n",
       "}\n",
       "\n",
       "div.sk-estimator.fitted:hover .sk-estimator-doc-link.fitted:hover,\n",
       ".sk-estimator-doc-link.fitted:hover,\n",
       "div.sk-label-container:hover .sk-estimator-doc-link.fitted:hover,\n",
       ".sk-estimator-doc-link.fitted:hover {\n",
       "  /* fitted */\n",
       "  background-color: var(--sklearn-color-fitted-level-3);\n",
       "  color: var(--sklearn-color-background);\n",
       "  text-decoration: none;\n",
       "}\n",
       "\n",
       "/* Span, style for the box shown on hovering the info icon */\n",
       ".sk-estimator-doc-link span {\n",
       "  display: none;\n",
       "  z-index: 9999;\n",
       "  position: relative;\n",
       "  font-weight: normal;\n",
       "  right: .2ex;\n",
       "  padding: .5ex;\n",
       "  margin: .5ex;\n",
       "  width: min-content;\n",
       "  min-width: 20ex;\n",
       "  max-width: 50ex;\n",
       "  color: var(--sklearn-color-text);\n",
       "  box-shadow: 2pt 2pt 4pt #999;\n",
       "  /* unfitted */\n",
       "  background: var(--sklearn-color-unfitted-level-0);\n",
       "  border: .5pt solid var(--sklearn-color-unfitted-level-3);\n",
       "}\n",
       "\n",
       ".sk-estimator-doc-link.fitted span {\n",
       "  /* fitted */\n",
       "  background: var(--sklearn-color-fitted-level-0);\n",
       "  border: var(--sklearn-color-fitted-level-3);\n",
       "}\n",
       "\n",
       ".sk-estimator-doc-link:hover span {\n",
       "  display: block;\n",
       "}\n",
       "\n",
       "/* \"?\"-specific style due to the `<a>` HTML tag */\n",
       "\n",
       "#sk-container-id-4 a.estimator_doc_link {\n",
       "  float: right;\n",
       "  font-size: 1rem;\n",
       "  line-height: 1em;\n",
       "  font-family: monospace;\n",
       "  background-color: var(--sklearn-color-background);\n",
       "  border-radius: 1rem;\n",
       "  height: 1rem;\n",
       "  width: 1rem;\n",
       "  text-decoration: none;\n",
       "  /* unfitted */\n",
       "  color: var(--sklearn-color-unfitted-level-1);\n",
       "  border: var(--sklearn-color-unfitted-level-1) 1pt solid;\n",
       "}\n",
       "\n",
       "#sk-container-id-4 a.estimator_doc_link.fitted {\n",
       "  /* fitted */\n",
       "  border: var(--sklearn-color-fitted-level-1) 1pt solid;\n",
       "  color: var(--sklearn-color-fitted-level-1);\n",
       "}\n",
       "\n",
       "/* On hover */\n",
       "#sk-container-id-4 a.estimator_doc_link:hover {\n",
       "  /* unfitted */\n",
       "  background-color: var(--sklearn-color-unfitted-level-3);\n",
       "  color: var(--sklearn-color-background);\n",
       "  text-decoration: none;\n",
       "}\n",
       "\n",
       "#sk-container-id-4 a.estimator_doc_link.fitted:hover {\n",
       "  /* fitted */\n",
       "  background-color: var(--sklearn-color-fitted-level-3);\n",
       "}\n",
       "</style><div id=\"sk-container-id-4\" class=\"sk-top-container\"><div class=\"sk-text-repr-fallback\"><pre>LogisticRegression()</pre><b>In a Jupyter environment, please rerun this cell to show the HTML representation or trust the notebook. <br />On GitHub, the HTML representation is unable to render, please try loading this page with nbviewer.org.</b></div><div class=\"sk-container\" hidden><div class=\"sk-item\"><div class=\"sk-estimator fitted sk-toggleable\"><input class=\"sk-toggleable__control sk-hidden--visually\" id=\"sk-estimator-id-4\" type=\"checkbox\" checked><label for=\"sk-estimator-id-4\" class=\"sk-toggleable__label fitted sk-toggleable__label-arrow\"><div><div>LogisticRegression</div></div><div><a class=\"sk-estimator-doc-link fitted\" rel=\"noreferrer\" target=\"_blank\" href=\"https://scikit-learn.org/1.6/modules/generated/sklearn.linear_model.LogisticRegression.html\">?<span>Documentation for LogisticRegression</span></a><span class=\"sk-estimator-doc-link fitted\">i<span>Fitted</span></span></div></label><div class=\"sk-toggleable__content fitted\"><pre>LogisticRegression()</pre></div> </div></div></div></div>"
      ],
      "text/plain": [
       "LogisticRegression()"
      ]
     },
     "execution_count": 23,
     "metadata": {},
     "output_type": "execute_result"
    }
   ],
   "source": [
    "model.fit(X_train, Y_train)"
   ]
  },
  {
   "cell_type": "code",
   "execution_count": 26,
   "id": "6b2b0329-d213-4ae0-a57e-87bba06acae1",
   "metadata": {},
   "outputs": [],
   "source": [
    "y_pred = model.predict(X_test)"
   ]
  },
  {
   "cell_type": "code",
   "execution_count": 25,
   "id": "e3b68aec-fdb6-48cb-877a-060d64b84588",
   "metadata": {},
   "outputs": [
    {
     "data": {
      "text/plain": [
       "array([[0.01589785, 0.98410215],\n",
       "       [0.84266072, 0.15733928],\n",
       "       [0.70451437, 0.29548563],\n",
       "       [0.86543984, 0.13456016],\n",
       "       [0.4363369 , 0.5636631 ],\n",
       "       [0.91047374, 0.08952626],\n",
       "       [0.03392216, 0.96607784],\n",
       "       [0.68783065, 0.31216935],\n",
       "       [0.88083681, 0.11916319],\n",
       "       [0.03768722, 0.96231278],\n",
       "       [0.92471858, 0.07528142],\n",
       "       [0.57431996, 0.42568004],\n",
       "       [0.26644873, 0.73355127],\n",
       "       [0.76243298, 0.23756702],\n",
       "       [0.40880764, 0.59119236],\n",
       "       [0.3155212 , 0.6844788 ],\n",
       "       [0.04282863, 0.95717137],\n",
       "       [0.13068134, 0.86931866],\n",
       "       [0.02514161, 0.97485839],\n",
       "       [0.93007644, 0.06992356],\n",
       "       [0.54540378, 0.45459622],\n",
       "       [0.03750493, 0.96249507],\n",
       "       [0.18078577, 0.81921423],\n",
       "       [0.90346854, 0.09653146],\n",
       "       [0.08076816, 0.91923184],\n",
       "       [0.44235007, 0.55764993],\n",
       "       [0.85423236, 0.14576764],\n",
       "       [0.53766208, 0.46233792],\n",
       "       [0.50778359, 0.49221641],\n",
       "       [0.83037355, 0.16962645],\n",
       "       [0.75287617, 0.24712383],\n",
       "       [0.22146763, 0.77853237],\n",
       "       [0.90525433, 0.09474567],\n",
       "       [0.35047955, 0.64952045],\n",
       "       [0.03636204, 0.96363796],\n",
       "       [0.01875864, 0.98124136],\n",
       "       [0.00985743, 0.99014257],\n",
       "       [0.94950949, 0.05049051],\n",
       "       [0.9692858 , 0.0307142 ],\n",
       "       [0.51728284, 0.48271716],\n",
       "       [0.9207251 , 0.0792749 ],\n",
       "       [0.64352595, 0.35647405],\n",
       "       [0.98139679, 0.01860321],\n",
       "       [0.56774575, 0.43225425],\n",
       "       [0.723547  , 0.276453  ],\n",
       "       [0.82690972, 0.17309028],\n",
       "       [0.89382652, 0.10617348],\n",
       "       [0.62882691, 0.37117309],\n",
       "       [0.70732547, 0.29267453],\n",
       "       [0.95213332, 0.04786668],\n",
       "       [0.87417872, 0.12582128],\n",
       "       [0.95789343, 0.04210657],\n",
       "       [0.34483189, 0.65516811],\n",
       "       [0.01609784, 0.98390216],\n",
       "       [0.39501218, 0.60498782],\n",
       "       [0.89854261, 0.10145739],\n",
       "       [0.92548407, 0.07451593],\n",
       "       [0.82880232, 0.17119768],\n",
       "       [0.01318345, 0.98681655],\n",
       "       [0.02676079, 0.97323921],\n",
       "       [0.00382422, 0.99617578],\n",
       "       [0.08915718, 0.91084282],\n",
       "       [0.11231674, 0.88768326],\n",
       "       [0.64450116, 0.35549884],\n",
       "       [0.05105365, 0.94894635],\n",
       "       [0.80781675, 0.19218325],\n",
       "       [0.94466207, 0.05533793],\n",
       "       [0.90049887, 0.09950113],\n",
       "       [0.51291972, 0.48708028],\n",
       "       [0.26652671, 0.73347329],\n",
       "       [0.75294566, 0.24705434],\n",
       "       [0.98024119, 0.01975881],\n",
       "       [0.08753135, 0.91246865],\n",
       "       [0.45014257, 0.54985743],\n",
       "       [0.01303261, 0.98696739],\n",
       "       [0.97071828, 0.02928172],\n",
       "       [0.53845727, 0.46154273],\n",
       "       [0.86833045, 0.13166955],\n",
       "       [0.32747299, 0.67252701],\n",
       "       [0.06943483, 0.93056517],\n",
       "       [0.71197707, 0.28802293],\n",
       "       [0.91596978, 0.08403022],\n",
       "       [0.80595588, 0.19404412],\n",
       "       [0.66569942, 0.33430058],\n",
       "       [0.34707789, 0.65292211],\n",
       "       [0.60506161, 0.39493839],\n",
       "       [0.29913161, 0.70086839],\n",
       "       [0.13602881, 0.86397119],\n",
       "       [0.69410677, 0.30589323],\n",
       "       [0.72707595, 0.27292405],\n",
       "       [0.6264664 , 0.3735336 ],\n",
       "       [0.19940855, 0.80059145],\n",
       "       [0.94972343, 0.05027657],\n",
       "       [0.03862748, 0.96137252],\n",
       "       [0.45191466, 0.54808534],\n",
       "       [0.66577048, 0.33422952],\n",
       "       [0.88389759, 0.11610241],\n",
       "       [0.01439168, 0.98560832],\n",
       "       [0.83393202, 0.16606798],\n",
       "       [0.03400977, 0.96599023],\n",
       "       [0.68636076, 0.31363924],\n",
       "       [0.20642269, 0.79357731],\n",
       "       [0.73472409, 0.26527591],\n",
       "       [0.15473128, 0.84526872],\n",
       "       [0.8451325 , 0.1548675 ],\n",
       "       [0.26864329, 0.73135671],\n",
       "       [0.0716676 , 0.9283324 ],\n",
       "       [0.73427097, 0.26572903],\n",
       "       [0.05740575, 0.94259425],\n",
       "       [0.06449701, 0.93550299],\n",
       "       [0.01264176, 0.98735824],\n",
       "       [0.13090532, 0.86909468],\n",
       "       [0.79502829, 0.20497171],\n",
       "       [0.86643223, 0.13356777],\n",
       "       [0.08530571, 0.91469429],\n",
       "       [0.67441725, 0.32558275],\n",
       "       [0.90427461, 0.09572539],\n",
       "       [0.04856875, 0.95143125],\n",
       "       [0.03400966, 0.96599034],\n",
       "       [0.64578138, 0.35421862],\n",
       "       [0.04507172, 0.95492828],\n",
       "       [0.72104807, 0.27895193],\n",
       "       [0.78829115, 0.21170885],\n",
       "       [0.28267931, 0.71732069],\n",
       "       [0.34330806, 0.65669194],\n",
       "       [0.86131827, 0.13868173],\n",
       "       [0.38509617, 0.61490383],\n",
       "       [0.81012476, 0.18987524],\n",
       "       [0.83847729, 0.16152271],\n",
       "       [0.60519083, 0.39480917],\n",
       "       [0.68813087, 0.31186913],\n",
       "       [0.84849136, 0.15150864],\n",
       "       [0.46895647, 0.53104353],\n",
       "       [0.82421483, 0.17578517],\n",
       "       [0.82630973, 0.17369027],\n",
       "       [0.88361046, 0.11638954],\n",
       "       [0.15935037, 0.84064963],\n",
       "       [0.84577322, 0.15422678],\n",
       "       [0.8269337 , 0.1730663 ],\n",
       "       [0.40218883, 0.59781117],\n",
       "       [0.83802006, 0.16197994],\n",
       "       [0.12184273, 0.87815727],\n",
       "       [0.00139166, 0.99860834],\n",
       "       [0.40202971, 0.59797029],\n",
       "       [0.36154578, 0.63845422],\n",
       "       [0.32936695, 0.67063305],\n",
       "       [0.59366911, 0.40633089],\n",
       "       [0.80585314, 0.19414686],\n",
       "       [0.15062668, 0.84937332],\n",
       "       [0.03811557, 0.96188443],\n",
       "       [0.03538571, 0.96461429],\n",
       "       [0.50312985, 0.49687015],\n",
       "       [0.95755267, 0.04244733],\n",
       "       [0.18094475, 0.81905525],\n",
       "       [0.9098101 , 0.0901899 ],\n",
       "       [0.80355234, 0.19644766],\n",
       "       [0.76772264, 0.23227736],\n",
       "       [0.87609424, 0.12390576],\n",
       "       [0.00491604, 0.99508396],\n",
       "       [0.05599943, 0.94400057],\n",
       "       [0.75398222, 0.24601778],\n",
       "       [0.05677354, 0.94322646],\n",
       "       [0.5513338 , 0.4486662 ],\n",
       "       [0.00411806, 0.99588194],\n",
       "       [0.53037135, 0.46962865],\n",
       "       [0.39097991, 0.60902009],\n",
       "       [0.06973896, 0.93026104],\n",
       "       [0.58358324, 0.41641676],\n",
       "       [0.6218561 , 0.3781439 ],\n",
       "       [0.57607126, 0.42392874],\n",
       "       [0.41946202, 0.58053798],\n",
       "       [0.67886165, 0.32113835],\n",
       "       [0.00801708, 0.99198292],\n",
       "       [0.6902387 , 0.3097613 ],\n",
       "       [0.05825167, 0.94174833],\n",
       "       [0.56997787, 0.43002213],\n",
       "       [0.6931389 , 0.3068611 ],\n",
       "       [0.8802899 , 0.1197101 ],\n",
       "       [0.01990764, 0.98009236],\n",
       "       [0.3781395 , 0.6218605 ],\n",
       "       [0.01111968, 0.98888032],\n",
       "       [0.73889746, 0.26110254],\n",
       "       [0.12356481, 0.87643519],\n",
       "       [0.72117694, 0.27882306],\n",
       "       [0.10231884, 0.89768116],\n",
       "       [0.08169292, 0.91830708],\n",
       "       [0.97922471, 0.02077529],\n",
       "       [0.12686065, 0.87313935],\n",
       "       [0.03532341, 0.96467659],\n",
       "       [0.77468693, 0.22531307],\n",
       "       [0.70461708, 0.29538292],\n",
       "       [0.13406858, 0.86593142],\n",
       "       [0.47111538, 0.52888462],\n",
       "       [0.75498221, 0.24501779],\n",
       "       [0.80452424, 0.19547576],\n",
       "       [0.26830869, 0.73169131],\n",
       "       [0.35130413, 0.64869587],\n",
       "       [0.73925848, 0.26074152],\n",
       "       [0.70591803, 0.29408197],\n",
       "       [0.01160872, 0.98839128]])"
      ]
     },
     "execution_count": 25,
     "metadata": {},
     "output_type": "execute_result"
    }
   ],
   "source": [
    "model.predict_proba(X_test)"
   ]
  },
  {
   "cell_type": "code",
   "execution_count": 27,
   "id": "4c37c8e8-2dfe-4039-a50b-22cc614d06d8",
   "metadata": {},
   "outputs": [],
   "source": [
    "from sklearn.metrics import confusion_matrix, accuracy_score,classification_report"
   ]
  },
  {
   "cell_type": "code",
   "execution_count": 28,
   "id": "04e7164e-c2eb-4847-88cf-e4090c000681",
   "metadata": {},
   "outputs": [
    {
     "data": {
      "text/plain": [
       "array([[84, 10],\n",
       "       [25, 81]])"
      ]
     },
     "execution_count": 28,
     "metadata": {},
     "output_type": "execute_result"
    }
   ],
   "source": [
    "confusion_matrix(Y_test, y_pred)"
   ]
  },
  {
   "cell_type": "code",
   "execution_count": 29,
   "id": "6d94b25c-60ce-4ab0-a33b-77e9d3d6562d",
   "metadata": {},
   "outputs": [
    {
     "data": {
      "text/plain": [
       "0.825"
      ]
     },
     "execution_count": 29,
     "metadata": {},
     "output_type": "execute_result"
    }
   ],
   "source": [
    "accuracy_score(Y_test, y_pred)"
   ]
  },
  {
   "cell_type": "code",
   "execution_count": 31,
   "id": "04bc65a9-7017-41d7-8a80-dd64c3c0455d",
   "metadata": {},
   "outputs": [
    {
     "name": "stdout",
     "output_type": "stream",
     "text": [
      "              precision    recall  f1-score   support\n",
      "\n",
      "           0       0.77      0.89      0.83        94\n",
      "           1       0.89      0.76      0.82       106\n",
      "\n",
      "    accuracy                           0.82       200\n",
      "   macro avg       0.83      0.83      0.82       200\n",
      "weighted avg       0.83      0.82      0.82       200\n",
      "\n"
     ]
    }
   ],
   "source": [
    "print(classification_report(Y_test, y_pred))"
   ]
  },
  {
   "cell_type": "code",
   "execution_count": 32,
   "id": "08e374c4-33c8-4bfe-88a3-1241e4112c87",
   "metadata": {},
   "outputs": [],
   "source": [
    "from sklearn.metrics import roc_curve, auc"
   ]
  },
  {
   "cell_type": "code",
   "execution_count": 38,
   "id": "c9519eed-0a4b-4a8c-a2a4-15ca3e6a9fdf",
   "metadata": {},
   "outputs": [],
   "source": [
    "y_pred_proba = model.predict_proba(X_test)[:,1]"
   ]
  },
  {
   "cell_type": "code",
   "execution_count": 39,
   "id": "a17f6e2c-cd50-4a0e-8ee5-dd767bd83bbb",
   "metadata": {},
   "outputs": [
    {
     "data": {
      "text/plain": [
       "array([0.98410215, 0.15733928, 0.29548563, 0.13456016, 0.5636631 ,\n",
       "       0.08952626, 0.96607784, 0.31216935, 0.11916319, 0.96231278,\n",
       "       0.07528142, 0.42568004, 0.73355127, 0.23756702, 0.59119236,\n",
       "       0.6844788 , 0.95717137, 0.86931866, 0.97485839, 0.06992356,\n",
       "       0.45459622, 0.96249507, 0.81921423, 0.09653146, 0.91923184,\n",
       "       0.55764993, 0.14576764, 0.46233792, 0.49221641, 0.16962645,\n",
       "       0.24712383, 0.77853237, 0.09474567, 0.64952045, 0.96363796,\n",
       "       0.98124136, 0.99014257, 0.05049051, 0.0307142 , 0.48271716,\n",
       "       0.0792749 , 0.35647405, 0.01860321, 0.43225425, 0.276453  ,\n",
       "       0.17309028, 0.10617348, 0.37117309, 0.29267453, 0.04786668,\n",
       "       0.12582128, 0.04210657, 0.65516811, 0.98390216, 0.60498782,\n",
       "       0.10145739, 0.07451593, 0.17119768, 0.98681655, 0.97323921,\n",
       "       0.99617578, 0.91084282, 0.88768326, 0.35549884, 0.94894635,\n",
       "       0.19218325, 0.05533793, 0.09950113, 0.48708028, 0.73347329,\n",
       "       0.24705434, 0.01975881, 0.91246865, 0.54985743, 0.98696739,\n",
       "       0.02928172, 0.46154273, 0.13166955, 0.67252701, 0.93056517,\n",
       "       0.28802293, 0.08403022, 0.19404412, 0.33430058, 0.65292211,\n",
       "       0.39493839, 0.70086839, 0.86397119, 0.30589323, 0.27292405,\n",
       "       0.3735336 , 0.80059145, 0.05027657, 0.96137252, 0.54808534,\n",
       "       0.33422952, 0.11610241, 0.98560832, 0.16606798, 0.96599023,\n",
       "       0.31363924, 0.79357731, 0.26527591, 0.84526872, 0.1548675 ,\n",
       "       0.73135671, 0.9283324 , 0.26572903, 0.94259425, 0.93550299,\n",
       "       0.98735824, 0.86909468, 0.20497171, 0.13356777, 0.91469429,\n",
       "       0.32558275, 0.09572539, 0.95143125, 0.96599034, 0.35421862,\n",
       "       0.95492828, 0.27895193, 0.21170885, 0.71732069, 0.65669194,\n",
       "       0.13868173, 0.61490383, 0.18987524, 0.16152271, 0.39480917,\n",
       "       0.31186913, 0.15150864, 0.53104353, 0.17578517, 0.17369027,\n",
       "       0.11638954, 0.84064963, 0.15422678, 0.1730663 , 0.59781117,\n",
       "       0.16197994, 0.87815727, 0.99860834, 0.59797029, 0.63845422,\n",
       "       0.67063305, 0.40633089, 0.19414686, 0.84937332, 0.96188443,\n",
       "       0.96461429, 0.49687015, 0.04244733, 0.81905525, 0.0901899 ,\n",
       "       0.19644766, 0.23227736, 0.12390576, 0.99508396, 0.94400057,\n",
       "       0.24601778, 0.94322646, 0.4486662 , 0.99588194, 0.46962865,\n",
       "       0.60902009, 0.93026104, 0.41641676, 0.3781439 , 0.42392874,\n",
       "       0.58053798, 0.32113835, 0.99198292, 0.3097613 , 0.94174833,\n",
       "       0.43002213, 0.3068611 , 0.1197101 , 0.98009236, 0.6218605 ,\n",
       "       0.98888032, 0.26110254, 0.87643519, 0.27882306, 0.89768116,\n",
       "       0.91830708, 0.02077529, 0.87313935, 0.96467659, 0.22531307,\n",
       "       0.29538292, 0.86593142, 0.52888462, 0.24501779, 0.19547576,\n",
       "       0.73169131, 0.64869587, 0.26074152, 0.29408197, 0.98839128])"
      ]
     },
     "execution_count": 39,
     "metadata": {},
     "output_type": "execute_result"
    }
   ],
   "source": [
    "y_pred_proba"
   ]
  },
  {
   "cell_type": "code",
   "execution_count": 41,
   "id": "cf163eba-6a70-4760-a6aa-f99ec52282ab",
   "metadata": {},
   "outputs": [],
   "source": [
    "fpr, tpr, threshold= roc_curve(Y_test, y_pred_proba)"
   ]
  },
  {
   "cell_type": "raw",
   "id": "de9eb601-2922-428b-a398-ae55b67972d4",
   "metadata": {},
   "source": [
    "roc_auc = auc(fpr,tpr)"
   ]
  },
  {
   "cell_type": "code",
   "execution_count": 42,
   "id": "0f370139-c907-4655-b5aa-0e990f77c191",
   "metadata": {},
   "outputs": [],
   "source": [
    "roc_auc = auc(fpr,tpr)"
   ]
  },
  {
   "cell_type": "code",
   "execution_count": 50,
   "id": "56899808-ec90-4299-8184-c4e811a8d989",
   "metadata": {},
   "outputs": [
    {
     "data": {
      "image/png": "[encoded data removed]",
      "text/plain": [
       "<Figure size 800x600 with 1 Axes>"
      ]
     },
     "metadata": {},
     "output_type": "display_data"
    }
   ],
   "source": [
    "plt.figure(figsize=(8,6))\n",
    "plt.plot(fpr, tpr, color = 'coral', linewidth = 2, label = 'roc curve(area = %0.2f' %roc_auc)\n",
    "plt.plot([0,1],[0,1], color = 'b', lw = 2, linestyle = '-.')\n",
    "plt.show()"
   ]
  },
  {
   "cell_type": "code",
   "execution_count": null,
   "id": "6a388b4c-95a7-4c13-98ce-1ea0e0df655d",
   "metadata": {},
   "outputs": [],
   "source": [
    "#by default prediction class is decided with cuttof 0.5\n",
    "#but if you want to decide your own cutoff, you have to use precision, recall, accuracy tradeof\n",
    "#sensitivity specificity, accuracy trade off"
   ]
  },
  {
   "cell_type": "code",
   "execution_count": 52,
   "id": "1bcf7d88-7419-48bc-b384-d727e6cf2edd",
   "metadata": {},
   "outputs": [],
   "source": [
    "import numpy as np\n",
    "from sklearn.metrics import precision_score, recall_score, accuracy_score"
   ]
  },
  {
   "cell_type": "code",
   "execution_count": 62,
   "id": "f4fecc43-c6a2-484f-876c-41f434049baa",
   "metadata": {},
   "outputs": [],
   "source": [
    "thresholds = np.linspace(0,1, 500)\n",
    "precisions = []\n",
    "recalls = []\n",
    "accuracies = []\n",
    "\n",
    "for threshold in thresholds:\n",
    "    y_pred_threshold = (y_pred_proba >= threshold).astype(int)\n",
    "    precision = precision_score(Y_test, y_pred_threshold)\n",
    "    recall = recall_score(Y_test, y_pred_threshold)\n",
    "    accuracy = accuracy_score(Y_test, y_pred_threshold)\n",
    "    precisions.append(precision)\n",
    "    recalls.append(recall)\n",
    "    accuracies.append(accuracy)"
   ]
  },
  {
   "cell_type": "code",
   "execution_count": 67,
   "id": "04bb1e8c-96fa-44f8-94e1-cffa03c3c98c",
   "metadata": {},
   "outputs": [
    {
     "data": {
      "image/png": "[encoded data removed]",
      "text/plain": [
       "<Figure size 1000x600 with 1 Axes>"
      ]
     },
     "metadata": {},
     "output_type": "display_data"
    }
   ],
   "source": [
    "plt.figure(figsize=(10,6))\n",
    "plt.plot(thresholds, precisions, label = 'precision', color = 'lightgreen')\n",
    "plt.plot(thresholds, recalls, label = 'recall', color = 'coral')\n",
    "plt.plot(thresholds, accuracies, label = 'accuracy', color = 'b')\n",
    "plt.grid()\n",
    "plt.legend()\n",
    "plt.show()"
   ]
  },
  {
   "cell_type": "code",
   "execution_count": null,
   "id": "ea1886d2-073d-4b0a-b353-f49f8826a093",
   "metadata": {},
   "outputs": [],
   "source": [
    "#0.4 is my optimal threshold based on precision-recall-accuracy tradeoff"
   ]
  },
  {
   "cell_type": "code",
   "execution_count": 72,
   "id": "08cab179-e28d-4f34-b9c4-162cf9a6e1c9",
   "metadata": {},
   "outputs": [],
   "source": [
    "new_pred_Label = np.where(y_pred_proba > 0.45, 1, 0)"
   ]
  },
  {
   "cell_type": "code",
   "execution_count": 73,
   "id": "7e8191ba-ca81-49a6-87d7-c8bc93ac1583",
   "metadata": {},
   "outputs": [
    {
     "data": {
      "text/plain": [
       "array([1, 0, 0, 0, 1, 0, 1, 0, 0, 1, 0, 0, 1, 0, 1, 1, 1, 1, 1, 0, 1, 1,\n",
       "       1, 0, 1, 1, 0, 1, 1, 0, 0, 1, 0, 1, 1, 1, 1, 0, 0, 1, 0, 0, 0, 0,\n",
       "       0, 0, 0, 0, 0, 0, 0, 0, 1, 1, 1, 0, 0, 0, 1, 1, 1, 1, 1, 0, 1, 0,\n",
       "       0, 0, 1, 1, 0, 0, 1, 1, 1, 0, 1, 0, 1, 1, 0, 0, 0, 0, 1, 0, 1, 1,\n",
       "       0, 0, 0, 1, 0, 1, 1, 0, 0, 1, 0, 1, 0, 1, 0, 1, 0, 1, 1, 0, 1, 1,\n",
       "       1, 1, 0, 0, 1, 0, 0, 1, 1, 0, 1, 0, 0, 1, 1, 0, 1, 0, 0, 0, 0, 0,\n",
       "       1, 0, 0, 0, 1, 0, 0, 1, 0, 1, 1, 1, 1, 1, 0, 0, 1, 1, 1, 1, 0, 1,\n",
       "       0, 0, 0, 0, 1, 1, 0, 1, 0, 1, 1, 1, 1, 0, 0, 0, 1, 0, 1, 0, 1, 0,\n",
       "       0, 0, 1, 1, 1, 0, 1, 0, 1, 1, 0, 1, 1, 0, 0, 1, 1, 0, 0, 1, 1, 0,\n",
       "       0, 1])"
      ]
     },
     "execution_count": 73,
     "metadata": {},
     "output_type": "execute_result"
    }
   ],
   "source": [
    "new_pred_Label"
   ]
  },
  {
   "cell_type": "code",
   "execution_count": 74,
   "id": "8318522e-1ced-4804-95d6-8c565ee98c32",
   "metadata": {},
   "outputs": [
    {
     "data": {
      "text/plain": [
       "array([[80, 14],\n",
       "       [21, 85]])"
      ]
     },
     "execution_count": 74,
     "metadata": {},
     "output_type": "execute_result"
    }
   ],
   "source": [
    "confusion_matrix(Y_test, new_pred_Label)"
   ]
  },
  {
   "cell_type": "code",
   "execution_count": 75,
   "id": "ff299b0c-2607-4292-8164-d565a3b52088",
   "metadata": {},
   "outputs": [
    {
     "data": {
      "text/plain": [
       "0.825"
      ]
     },
     "execution_count": 75,
     "metadata": {},
     "output_type": "execute_result"
    }
   ],
   "source": [
    "accuracy_score(Y_test, new_pred_Label)"
   ]
  },
  {
   "cell_type": "code",
   "execution_count": 77,
   "id": "694eade7-f727-443d-a067-382461abc714",
   "metadata": {},
   "outputs": [
    {
     "name": "stdout",
     "output_type": "stream",
     "text": [
      "              precision    recall  f1-score   support\n",
      "\n",
      "           0       0.79      0.85      0.82        94\n",
      "           1       0.86      0.80      0.83       106\n",
      "\n",
      "    accuracy                           0.82       200\n",
      "   macro avg       0.83      0.83      0.82       200\n",
      "weighted avg       0.83      0.82      0.83       200\n",
      "\n"
     ]
    }
   ],
   "source": [
    "print(classification_report(Y_test, new_pred_Label))"
   ]
  },
  {
   "cell_type": "code",
   "execution_count": 78,
   "id": "f03e3a9b-ac57-4143-9b5d-f72c96e0800b",
   "metadata": {},
   "outputs": [],
   "source": [
    "from sklearn.model_selection import KFold\n",
    "cv  = KFold(n_splits=5)"
   ]
  },
  {
   "cell_type": "code",
   "execution_count": 79,
   "id": "29d17b50-948b-488f-8f2b-71a31c5498b9",
   "metadata": {},
   "outputs": [
    {
     "data": {
      "text/plain": [
       "KFold(n_splits=5, random_state=None, shuffle=False)"
      ]
     },
     "execution_count": 79,
     "metadata": {},
     "output_type": "execute_result"
    }
   ],
   "source": [
    "cv"
   ]
  },
  {
   "cell_type": "code",
   "execution_count": 81,
   "id": "abb18d42-0578-490f-89f1-7bfab474eac8",
   "metadata": {},
   "outputs": [],
   "source": [
    "from sklearn.model_selection import cross_val_score\n",
    "acc = cross_val_score(model, X_train, Y_train, cv = cv)"
   ]
  },
  {
   "cell_type": "code",
   "execution_count": 82,
   "id": "f39087c0-9384-4771-bf82-8744cb2f83a7",
   "metadata": {},
   "outputs": [
    {
     "data": {
      "text/plain": [
       "np.float64(0.8025)"
      ]
     },
     "execution_count": 82,
     "metadata": {},
     "output_type": "execute_result"
    }
   ],
   "source": [
    "np.mean(acc)"
   ]
  }
 ],
 "metadata": {
  "kernelspec": {
   "display_name": "Python 3 (ipykernel)",
   "language": "python",
   "name": "python3"
  },
  "language_info": {
   "codemirror_mode": {
    "name": "ipython",
    "version": 3
   },
   "file_extension": ".py",
   "mimetype": "text/x-python",
   "name": "python",
   "nbconvert_exporter": "python",
   "pygments_lexer": "ipython3",
   "version": "3.12.7"
  }
 },
 "nbformat": 4,
 "nbformat_minor": 5
}
